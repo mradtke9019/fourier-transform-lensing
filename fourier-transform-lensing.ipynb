{
 "cells": [
  {
   "cell_type": "code",
   "execution_count": 84,
   "id": "05469411",
   "metadata": {},
   "outputs": [],
   "source": [
    "import numpy as np\n",
    "import matplotlib.pyplot as plt\n",
    "import cv2\n",
    "import math\n",
    "from scipy.fft import fft, ifft, fft2, fftn, ifft2"
   ]
  },
  {
   "cell_type": "code",
   "execution_count": 86,
   "id": "aab7972a",
   "metadata": {
    "scrolled": true
   },
   "outputs": [
    {
     "data": {
      "image/png": "[encoded data removed]",
      "text/plain": [
       "<Figure size 640x480 with 1 Axes>"
      ]
     },
     "metadata": {},
     "output_type": "display_data"
    },
    {
     "ename": "TypeError",
     "evalue": "only size-1 arrays can be converted to Python scalars",
     "output_type": "error",
     "traceback": [
      "\u001b[1;31m---------------------------------------------------------------------------\u001b[0m",
      "\u001b[1;31mTypeError\u001b[0m                                 Traceback (most recent call last)",
      "Cell \u001b[1;32mIn [86], line 19\u001b[0m\n\u001b[0;32m     16\u001b[0m     plt\u001b[38;5;241m.\u001b[39mshow()\n\u001b[0;32m     18\u001b[0m     transform \u001b[38;5;241m=\u001b[39m fourierTransform(gray)\n\u001b[1;32m---> 19\u001b[0m     transform \u001b[38;5;241m=\u001b[39m \u001b[43mmath\u001b[49m\u001b[38;5;241;43m.\u001b[39;49m\u001b[43mlog\u001b[49m\u001b[43m(\u001b[49m\u001b[38;5;28;43mabs\u001b[39;49m\u001b[43m(\u001b[49m\u001b[43mtransform\u001b[49m\u001b[43m)\u001b[49m\u001b[43m \u001b[49m\u001b[38;5;241;43m+\u001b[39;49m\u001b[43m \u001b[49m\u001b[38;5;241;43m1\u001b[39;49m\u001b[43m)\u001b[49m\n\u001b[0;32m     21\u001b[0m     plt\u001b[38;5;241m.\u001b[39mtitle(img \u001b[38;5;241m+\u001b[39m \u001b[38;5;124m\"\u001b[39m\u001b[38;5;124m Transformed\u001b[39m\u001b[38;5;124m\"\u001b[39m)\n\u001b[0;32m     22\u001b[0m \u001b[38;5;66;03m#     plt.imshow(np.array(transform, dtype=float))\u001b[39;00m\n",
      "\u001b[1;31mTypeError\u001b[0m: only size-1 arrays can be converted to Python scalars"
     ]
    }
   ],
   "source": [
    "fourierTransform = fft2\n",
    "images = [\"box1.png\", \"box2.png\", \"box3.png\", \"box4.png\", \"oval1.png\", \"oval2.png\", \"oval3.png\", \"rectangle1.png\", \"rectangle2.png\",\"rounded1.png\", \"triangle1.png\"]\n",
    "for img in images:\n",
    "    fig = plt.figure()\n",
    "    ax = plt.axes()\n",
    "    \n",
    "#     ax.set_title(img, loc='left')\n",
    "    image = np.array(cv2.imread(img, cv2.COLOR_BGR2GRAY), dtype = float)\n",
    "    image = image / 255.0\n",
    "    image = image[:,:,0]\n",
    "    gray = image\n",
    "    transform = []\n",
    "    \n",
    "    plt.title(img)\n",
    "    plt.imshow(gray, cmap='gray', vmin=0, vmax=1.0)\n",
    "    plt.show()\n",
    "\n",
    "    transform = fourierTransform(gray)\n",
    "    transform = math.log(abs(transform) + 1)\n",
    "    \n",
    "    plt.title(img + \" Transformed\")\n",
    "#     plt.imshow(np.array(transform, dtype=float))\n",
    "    plt.imshow(np.array(transform, dtype=float), cmap='gray', vmin=0, vmax=1.0)\n",
    "    plt.show()\n",
    "    "
   ]
  },
  {
   "cell_type": "code",
   "execution_count": null,
   "id": "4358c6ab",
   "metadata": {},
   "outputs": [],
   "source": []
  },
  {
   "cell_type": "code",
   "execution_count": null,
   "id": "e9b80886",
   "metadata": {},
   "outputs": [],
   "source": []
  }
 ],
 "metadata": {
  "kernelspec": {
   "display_name": "Python 3 (ipykernel)",
   "language": "python",
   "name": "python3"
  },
  "language_info": {
   "codemirror_mode": {
    "name": "ipython",
    "version": 3
   },
   "file_extension": ".py",
   "mimetype": "text/x-python",
   "name": "python",
   "nbconvert_exporter": "python",
   "pygments_lexer": "ipython3",
   "version": "3.11.0"
  }
 },
 "nbformat": 4,
 "nbformat_minor": 5
}
